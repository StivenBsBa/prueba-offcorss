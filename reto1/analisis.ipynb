{
 "cells": [
  {
   "cell_type": "code",
   "execution_count": 1,
   "metadata": {},
   "outputs": [],
   "source": [
    "# Importaciones a usar en el analisis\n",
    "import pandas as pd\n",
    "import numpy as np\n",
    "import matplotlib.pyplot as plt\n",
    "import seaborn as sns\n",
    "from sklearn.preprocessing import MinMaxScaler"
   ]
  },
  {
   "cell_type": "markdown",
   "metadata": {},
   "source": [
    "### Carga de Datos para Análisis de Expansión de Mercados\n",
    "\n",
    "Se cargaron tres datasets clave para el análisis:\n",
    "\n",
    "1. **\\*Cultura (`hofstede.csv`)** → Contiene métricas culturales basadas en el modelo de Hofstede.\n",
    "2. **\\*Natalidad (`birth_rate.csv`)** → Proporciona tasas de natalidad por país.\n",
    "3. **\\*PIB (`world_bank_gdp.csv`)** → Contiene datos sobre el PIB de diferentes países.\n"
   ]
  },
  {
   "cell_type": "code",
   "execution_count": 2,
   "metadata": {},
   "outputs": [
    {
     "name": "stdout",
     "output_type": "stream",
     "text": [
      "   ctr      country     pdi     idv     mas     uai  ltowvs ivr\n",
      "0  AFE  Africa East      64      27      41      52      32  40\n",
      "1  AFW  Africa West      77      20      46      54       9  78\n",
      "2  ALB      Albania  #NULL!  #NULL!  #NULL!  #NULL!      61  15\n",
      "3  ALG      Algeria  #NULL!  #NULL!  #NULL!  #NULL!      26  32\n",
      "4  AND      Andorra  #NULL!  #NULL!  #NULL!  #NULL!  #NULL!  65\n",
      "      Entity Code         Day  Birth rate per day, on a monthly basis\n",
      "0  Australia  AUS  1962-01-31                               59.827270\n",
      "1  Australia  AUS  1962-02-28                               61.668243\n",
      "2  Australia  AUS  1962-03-31                               62.976868\n",
      "3  Australia  AUS  1962-04-30                               61.529507\n",
      "4  Australia  AUS  1962-05-31                               61.744854\n",
      "  Country Name Country Code                           Indicator Name  \\\n",
      "0        Aruba          ABW  PIB per cápita (US$ a precios actuales)   \n",
      "1          NaN          AFE  PIB per cápita (US$ a precios actuales)   \n",
      "2   Afganistán          AFG  PIB per cápita (US$ a precios actuales)   \n",
      "3          NaN          AFW  PIB per cápita (US$ a precios actuales)   \n",
      "4       Angola          AGO  PIB per cápita (US$ a precios actuales)   \n",
      "\n",
      "   Indicator Code        1960        1961        1962        1963        1964  \\\n",
      "0  NY.GDP.PCAP.CD         NaN         NaN         NaN         NaN         NaN   \n",
      "1  NY.GDP.PCAP.CD  186.132432  186.947182  197.408105  225.447007  209.005786   \n",
      "2  NY.GDP.PCAP.CD         NaN         NaN         NaN         NaN         NaN   \n",
      "3  NY.GDP.PCAP.CD  121.938353  127.452629  133.825452  139.006714  148.547736   \n",
      "4  NY.GDP.PCAP.CD         NaN         NaN         NaN         NaN         NaN   \n",
      "\n",
      "         1965  ...          2015          2016          2017          2018  \\\n",
      "0         NaN  ...  27458.225331  27441.529662  28440.051964  30082.127645   \n",
      "1  226.883067  ...   1479.564123   1329.777824   1520.171298   1538.924188   \n",
      "2         NaN  ...    565.569730    522.082216    525.469771    491.337221   \n",
      "3  155.563837  ...   1845.767804   1616.843198   1560.162999   1703.896392   \n",
      "4         NaN  ...   3213.902611   1807.952941   2437.259712   2538.591391   \n",
      "\n",
      "           2019          2020          2021          2022          2023  \\\n",
      "0  31096.205074  22855.932320  27200.061079  30559.533535  33984.790620   \n",
      "1   1493.780445   1344.080962   1522.590088   1628.024526   1659.515290   \n",
      "2    496.602504    510.787063    356.496214    357.261153    415.707417   \n",
      "3   1783.654365   1664.249176   1747.840549   1777.235012   1568.724310   \n",
      "4   2189.855714   1449.922867   1925.874661   2929.694455   2308.159767   \n",
      "\n",
      "   Unnamed: 68  \n",
      "0          NaN  \n",
      "1          NaN  \n",
      "2          NaN  \n",
      "3          NaN  \n",
      "4          NaN  \n",
      "\n",
      "[5 rows x 69 columns]\n"
     ]
    }
   ],
   "source": [
    "df_cultura = pd.read_csv(\"hofstede.csv\", delimiter=';')  \n",
    "print(df_cultura.head())\n",
    "\n",
    "df_natalidad = pd.read_csv(\"birth_rate.csv\")\n",
    "print(df_natalidad.head())\n",
    "\n",
    "df_pib = pd.read_csv(\"./pib/world_bank_gdp.csv\") \n",
    "print(df_pib.head())"
   ]
  },
  {
   "cell_type": "markdown",
   "metadata": {},
   "source": [
    "### Se filtra y renombra columnas en el el los DataFrame y se extrae solo las columnas necesarias\n"
   ]
  },
  {
   "cell_type": "code",
   "execution_count": 3,
   "metadata": {},
   "outputs": [
    {
     "name": "stdout",
     "output_type": "stream",
     "text": [
      "  Country Code Country Name Power Distance Individualism Masculinity  \\\n",
      "0          AFE  Africa East             64            27          41   \n",
      "1          AFW  Africa West             77            20          46   \n",
      "2          ALB      Albania         #NULL!        #NULL!      #NULL!   \n",
      "3          ALG      Algeria         #NULL!        #NULL!      #NULL!   \n",
      "4          AND      Andorra         #NULL!        #NULL!      #NULL!   \n",
      "\n",
      "  Uncertainty Avoidance Long Term Orientation Indulgence  \n",
      "0                    52                    32         40  \n",
      "1                    54                     9         78  \n",
      "2                #NULL!                    61         15  \n",
      "3                #NULL!                    26         32  \n",
      "4                #NULL!                #NULL!         65  \n"
     ]
    }
   ],
   "source": [
    "df_cultura.rename(columns={\n",
    "    'ctr': 'Country Code',\n",
    "    'country': 'Country Name',\n",
    "    'pdi': 'Power Distance',\n",
    "    'idv': 'Individualism',\n",
    "    'mas': 'Masculinity',\n",
    "    'uai': 'Uncertainty Avoidance',\n",
    "    'ltowvs': 'Long Term Orientation',\n",
    "    'ivr': 'Indulgence'\n",
    "}, inplace=True)\n",
    "\n",
    "print(df_cultura.head())\n"
   ]
  },
  {
   "cell_type": "code",
   "execution_count": 4,
   "metadata": {},
   "outputs": [
    {
     "name": "stdout",
     "output_type": "stream",
     "text": [
      "<class 'pandas.core.frame.DataFrame'>\n",
      "RangeIndex: 47243 entries, 0 to 47242\n",
      "Data columns (total 4 columns):\n",
      " #   Column        Non-Null Count  Dtype  \n",
      "---  ------        --------------  -----  \n",
      " 0   Country Name  47243 non-null  object \n",
      " 1   Country Code  44615 non-null  object \n",
      " 2   Day           47243 non-null  object \n",
      " 3   Birth Rate    47243 non-null  float64\n",
      "dtypes: float64(1), object(3)\n",
      "memory usage: 1.4+ MB\n",
      "None\n"
     ]
    }
   ],
   "source": [
    "df_natalidad_filtered = df_natalidad[['Entity', 'Code', 'Day', 'Birth rate per day, on a monthly basis']]\n",
    "\n",
    "df_natalidad_filtered.rename(columns={\n",
    "    'Entity': 'Country Name',\n",
    "    'Code': 'Country Code',\n",
    "    'Birth rate per day, on a monthly basis': 'Birth Rate'\n",
    "}, inplace=True)\n",
    "\n",
    "print(df_natalidad_filtered.info())"
   ]
  },
  {
   "cell_type": "code",
   "execution_count": 5,
   "metadata": {},
   "outputs": [
    {
     "name": "stdout",
     "output_type": "stream",
     "text": [
      "<class 'pandas.core.frame.DataFrame'>\n",
      "RangeIndex: 266 entries, 0 to 265\n",
      "Data columns (total 3 columns):\n",
      " #   Column          Non-Null Count  Dtype  \n",
      "---  ------          --------------  -----  \n",
      " 0   Country Name    264 non-null    object \n",
      " 1   Country Code    266 non-null    object \n",
      " 2   GDP per Capita  255 non-null    float64\n",
      "dtypes: float64(1), object(2)\n",
      "memory usage: 6.4+ KB\n",
      "None\n"
     ]
    }
   ],
   "source": [
    "df_pib_filtered = df_pib[['Country Name', 'Country Code', '2022']]\n",
    "\n",
    "df_pib_filtered = df_pib_filtered.rename(columns={'2022': 'GDP per Capita'})\n",
    "\n",
    "\n",
    "print(df_pib_filtered.info())\n"
   ]
  },
  {
   "cell_type": "code",
   "execution_count": 6,
   "metadata": {},
   "outputs": [
    {
     "name": "stdout",
     "output_type": "stream",
     "text": [
      "<class 'pandas.core.frame.DataFrame'>\n",
      "RangeIndex: 6372 entries, 0 to 6371\n",
      "Data columns (total 13 columns):\n",
      " #   Column                 Non-Null Count  Dtype  \n",
      "---  ------                 --------------  -----  \n",
      " 0   Country Name           6372 non-null   object \n",
      " 1   Country Code_x         6372 non-null   object \n",
      " 2   GDP per Capita         6372 non-null   float64\n",
      " 3   Country Code_y         6372 non-null   object \n",
      " 4   Day                    6372 non-null   object \n",
      " 5   Birth Rate             6372 non-null   float64\n",
      " 6   Country Code           6372 non-null   object \n",
      " 7   Power Distance         6372 non-null   object \n",
      " 8   Individualism          6372 non-null   object \n",
      " 9   Masculinity            6372 non-null   object \n",
      " 10  Uncertainty Avoidance  6372 non-null   object \n",
      " 11  Long Term Orientation  6372 non-null   object \n",
      " 12  Indulgence             6372 non-null   object \n",
      "dtypes: float64(2), object(11)\n",
      "memory usage: 647.3+ KB\n",
      "None\n"
     ]
    }
   ],
   "source": [
    "# Unir PIB con Natalidad\n",
    "df_merged = df_pib_filtered.merge(df_natalidad_filtered, on=\"Country Name\", how=\"inner\")\n",
    "\n",
    "# Unir con Cultura (Hofstede)\n",
    "df_merged = df_merged.merge(df_cultura, on=\"Country Name\", how=\"inner\")\n",
    "\n",
    "# print(df_merged.sample(5))\n",
    "print(df_merged.info())"
   ]
  },
  {
   "cell_type": "code",
   "execution_count": 7,
   "metadata": {},
   "outputs": [
    {
     "name": "stdout",
     "output_type": "stream",
     "text": [
      "  Country Name  GDP per Capita    Birth Rate  Power Distance  Individualism  \\\n",
      "0    Australia    64997.013654  30197.912681              38             90   \n",
      "1      Austria    52176.664914  49368.817509              11             55   \n",
      "2     Bulgaria    13644.201583  45471.193397              70             30   \n",
      "3        Chile    15451.131958  41049.899085              63             23   \n",
      "4      Estonia    28451.147783  26117.596409              40             60   \n",
      "5       Israel    54930.726160  21617.492339              13             54   \n",
      "6     Portugal    24620.519557  69314.567226              63             27   \n",
      "\n",
      "   Masculinity  Uncertainty Avoidance  Long Term Orientation  Indulgence  \n",
      "0           61                     51                     21        71.0  \n",
      "1           79                     70                     60        63.0  \n",
      "2           40                     85                     69        16.0  \n",
      "3           28                     86                     31        68.0  \n",
      "4           30                     60                     82        16.0  \n",
      "5           47                     81                     38         NaN  \n",
      "6           31                    104                     28        33.0  \n"
     ]
    }
   ],
   "source": [
    "# Convertir la columna de fecha a datetime para análisis temporal\n",
    "df_merged['Day'] = pd.to_datetime(df_merged['Day'])\n",
    "\n",
    "# Agrupar por país y calcular métricas clave\n",
    "df_final = df_merged.groupby(\"Country Name\").agg({\n",
    "    \"GDP per Capita\": \"mean\",  # Promedio del PIB\n",
    "    \"Birth Rate\": \"sum\",       # Total de nacimientos en el periodo\n",
    "    \"Power Distance\": \"first\", \n",
    "    \"Individualism\": \"first\", \n",
    "    \"Masculinity\": \"first\", \n",
    "    \"Uncertainty Avoidance\": \"first\", \n",
    "    \"Long Term Orientation\": \"first\", \n",
    "    \"Indulgence\": \"first\"\n",
    "}).reset_index()\n",
    "\n",
    "# Convertir datos culturales a numéricos\n",
    "cols_cultura = [\"Power Distance\", \"Individualism\", \"Masculinity\", \"Uncertainty Avoidance\", \"Long Term Orientation\", \"Indulgence\"]\n",
    "df_final[cols_cultura] = df_final[cols_cultura].apply(pd.to_numeric, errors=\"coerce\")\n",
    "\n",
    "print(df_final)\n"
   ]
  },
  {
   "cell_type": "markdown",
   "metadata": {},
   "source": [
    "Se integraron datos de natalidad, PIB per cápita y dimensiones culturales de Hofstede para evaluar cada país según su potencial de crecimiento y estabilidad económica.\n",
    "\n",
    "Para cada país, se calculó una puntuación basada en:\n",
    "\n",
    "- **PIB per cápita**: Indica la capacidad económica de los habitantes.\n",
    "- **Tasa de natalidad**: Representa el crecimiento demográfico y la demanda futura.\n",
    "- **Individualismo**: Alta puntuación sugiere mercados con consumidores más independientes.\n",
    "- **Evasión de la incertidumbre**: Baja puntuación indica mayor apertura al cambio y nuevos negocios.\n",
    "\n",
    "Se asignaron pesos a estos factores para obtener una **puntuación final**, permitiendo ordenar los países según su atractivo para la expansión.\n",
    "\n",
    "### Resultados\n",
    "\n",
    "Los países con mejor puntuación presentan un equilibrio entre alta capacidad económica, crecimiento poblacional y apertura cultural, lo que los hace ideales para la expansión empresarial.\n"
   ]
  },
  {
   "cell_type": "code",
   "execution_count": null,
   "metadata": {},
   "outputs": [],
   "source": [
    "# Normalizar variables numéricas\n",
    "scaler = MinMaxScaler()\n",
    "df_final[['GDP Score', 'Birth Rate Score']] = scaler.fit_transform(df_final[['GDP per Capita', 'Birth Rate']])\n",
    "\n",
    "# Crear un índice ponderado\n",
    "df_final[\"Market Potential Score\"] = (\n",
    "    df_final[\"GDP Score\"] * 0.4 +  # PIB representa 40% del puntaje\n",
    "    df_final[\"Birth Rate Score\"] * 0.3 +  # Natalidad representa 30%\n",
    "    df_final[\"Individualism\"] * 0.2 / 100 +  # Cultura individualista favorece negocios\n",
    "    (1 - df_final[\"Uncertainty Avoidance\"] / 100) * 0.1  # Menor evasión a la incertidumbre favorece la inversión\n",
    ")\n",
    "\n",
    "# Ordenar por mejor puntuación\n",
    "df_final = df_final.sort_values(by=\"Market Potential Score\", ascending=False)\n"
   ]
  },
  {
   "cell_type": "code",
   "execution_count": 9,
   "metadata": {},
   "outputs": [
    {
     "name": "stderr",
     "output_type": "stream",
     "text": [
      "C:\\Users\\braya\\AppData\\Local\\Temp\\ipykernel_16868\\2638543479.py:2: FutureWarning: \n",
      "\n",
      "Passing `palette` without assigning `hue` is deprecated and will be removed in v0.14.0. Assign the `x` variable to `hue` and set `legend=False` for the same effect.\n",
      "\n",
      "  sns.barplot(data=df_final.head(10), x='Country Name', y='Market Potential Score', palette='viridis')\n"
     ]
    },
    {
     "data": {
      "image/png": "[encoded data removed]",
      "text/plain": [
       "<Figure size 1200x600 with 1 Axes>"
      ]
     },
     "metadata": {},
     "output_type": "display_data"
    }
   ],
   "source": [
    "\n",
    "plt.figure(figsize=(12, 6))\n",
    "sns.barplot(data=df_final.head(10), x='Country Name', y='Market Potential Score', palette='viridis')\n",
    "plt.title(\"Top 10 Mercados con Mayor Potencial\")\n",
    "plt.xlabel(\"País\")\n",
    "plt.ylabel(\"Puntuación de Potencial de Mercado\")\n",
    "plt.xticks(rotation=45)\n",
    "plt.grid(axis='y', linestyle='--', alpha=0.7)\n",
    "plt.show()\n"
   ]
  }
 ],
 "metadata": {
  "kernelspec": {
   "display_name": "Python 3",
   "language": "python",
   "name": "python3"
  },
  "language_info": {
   "codemirror_mode": {
    "name": "ipython",
    "version": 3
   },
   "file_extension": ".py",
   "mimetype": "text/x-python",
   "name": "python",
   "nbconvert_exporter": "python",
   "pygments_lexer": "ipython3",
   "version": "3.12.7"
  }
 },
 "nbformat": 4,
 "nbformat_minor": 2
}
