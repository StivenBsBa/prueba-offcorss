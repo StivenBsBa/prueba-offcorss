{
 "cells": [
  {
   "cell_type": "code",
   "execution_count": 1,
   "metadata": {},
   "outputs": [],
   "source": [
    "import pandas as pd\n",
    "import matplotlib.pyplot as plt\n",
    "import numpy as np\n",
    "import seaborn as sns\n",
    "\n",
    "df = pd.read_csv(\"sales_data.csv\")"
   ]
  },
  {
   "cell_type": "code",
   "execution_count": 2,
   "metadata": {},
   "outputs": [
    {
     "name": "stdout",
     "output_type": "stream",
     "text": [
      "<class 'pandas.core.frame.DataFrame'>\n",
      "RangeIndex: 1000000 entries, 0 to 999999\n",
      "Data columns (total 7 columns):\n",
      " #   Column           Non-Null Count    Dtype         \n",
      "---  ------           --------------    -----         \n",
      " 0   TransactionID    1000000 non-null  object        \n",
      " 1   Date             1000000 non-null  datetime64[ns]\n",
      " 2   ProductCategory  1000000 non-null  object        \n",
      " 3   Location         1000000 non-null  object        \n",
      " 4   QuantitySold     1000000 non-null  int64         \n",
      " 5   PricePerUnit     1000000 non-null  float64       \n",
      " 6   TotalSales       1000000 non-null  float64       \n",
      "dtypes: datetime64[ns](1), float64(2), int64(1), object(3)\n",
      "memory usage: 53.4+ MB\n"
     ]
    }
   ],
   "source": [
    "df['Date'] = pd.to_datetime(df['Date'])\n",
    "df.info()"
   ]
  },
  {
   "cell_type": "code",
   "execution_count": 3,
   "metadata": {},
   "outputs": [
    {
     "data": {
      "text/html": [
       "<div>\n",
       "<style scoped>\n",
       "    .dataframe tbody tr th:only-of-type {\n",
       "        vertical-align: middle;\n",
       "    }\n",
       "\n",
       "    .dataframe tbody tr th {\n",
       "        vertical-align: top;\n",
       "    }\n",
       "\n",
       "    .dataframe thead th {\n",
       "        text-align: right;\n",
       "    }\n",
       "</style>\n",
       "<table border=\"1\" class=\"dataframe\">\n",
       "  <thead>\n",
       "    <tr style=\"text-align: right;\">\n",
       "      <th></th>\n",
       "      <th>TransactionID</th>\n",
       "      <th>Date</th>\n",
       "      <th>ProductCategory</th>\n",
       "      <th>Location</th>\n",
       "      <th>QuantitySold</th>\n",
       "      <th>PricePerUnit</th>\n",
       "      <th>TotalSales</th>\n",
       "    </tr>\n",
       "  </thead>\n",
       "  <tbody>\n",
       "    <tr>\n",
       "      <th>0</th>\n",
       "      <td>343659ce-f3f9-4602-8300-ef6dd037018e</td>\n",
       "      <td>2025-01-01</td>\n",
       "      <td>Ropa</td>\n",
       "      <td>Cartagena</td>\n",
       "      <td>3</td>\n",
       "      <td>52.54</td>\n",
       "      <td>157.62</td>\n",
       "    </tr>\n",
       "    <tr>\n",
       "      <th>1</th>\n",
       "      <td>32321226-2d3c-4d4a-8d13-5767ba9fc659</td>\n",
       "      <td>2025-01-01</td>\n",
       "      <td>Ropa</td>\n",
       "      <td>Bogotá</td>\n",
       "      <td>2</td>\n",
       "      <td>48.18</td>\n",
       "      <td>96.36</td>\n",
       "    </tr>\n",
       "    <tr>\n",
       "      <th>2</th>\n",
       "      <td>75e25cc7-a4d8-429f-88e4-80fab90f7d9d</td>\n",
       "      <td>2025-01-01</td>\n",
       "      <td>Calzado</td>\n",
       "      <td>Cali</td>\n",
       "      <td>-4</td>\n",
       "      <td>67.35</td>\n",
       "      <td>-269.40</td>\n",
       "    </tr>\n",
       "    <tr>\n",
       "      <th>3</th>\n",
       "      <td>6facb6e4-a844-403c-a74e-cca6b6b4d44b</td>\n",
       "      <td>2025-01-01</td>\n",
       "      <td>Accesorios</td>\n",
       "      <td>Cartagena</td>\n",
       "      <td>6</td>\n",
       "      <td>53.00</td>\n",
       "      <td>318.00</td>\n",
       "    </tr>\n",
       "    <tr>\n",
       "      <th>4</th>\n",
       "      <td>0bf768e5-580f-43a1-a085-0c265a2b206c</td>\n",
       "      <td>2025-01-01</td>\n",
       "      <td>Accesorios</td>\n",
       "      <td>Barranquilla</td>\n",
       "      <td>2</td>\n",
       "      <td>62.97</td>\n",
       "      <td>125.94</td>\n",
       "    </tr>\n",
       "    <tr>\n",
       "      <th>5</th>\n",
       "      <td>16b58205-23c1-47eb-a31c-f7b6f4dcf341</td>\n",
       "      <td>2025-01-01</td>\n",
       "      <td>Accesorios</td>\n",
       "      <td>Medellín</td>\n",
       "      <td>2</td>\n",
       "      <td>71.09</td>\n",
       "      <td>142.18</td>\n",
       "    </tr>\n",
       "    <tr>\n",
       "      <th>6</th>\n",
       "      <td>c751ea46-d094-4a78-8dcb-9b3415546a75</td>\n",
       "      <td>2025-01-01</td>\n",
       "      <td>Ropa</td>\n",
       "      <td>Cartagena</td>\n",
       "      <td>6</td>\n",
       "      <td>57.98</td>\n",
       "      <td>347.88</td>\n",
       "    </tr>\n",
       "    <tr>\n",
       "      <th>7</th>\n",
       "      <td>2dd4ae30-947c-4e85-8d0e-6f24dda3f4a9</td>\n",
       "      <td>2025-01-01</td>\n",
       "      <td>Ropa</td>\n",
       "      <td>Bogotá</td>\n",
       "      <td>4</td>\n",
       "      <td>42.81</td>\n",
       "      <td>171.24</td>\n",
       "    </tr>\n",
       "    <tr>\n",
       "      <th>8</th>\n",
       "      <td>757eb262-0b6b-41fe-ae59-63ed9dc6e6b7</td>\n",
       "      <td>2025-01-01</td>\n",
       "      <td>Mascotas</td>\n",
       "      <td>Cali</td>\n",
       "      <td>2</td>\n",
       "      <td>35.83</td>\n",
       "      <td>71.66</td>\n",
       "    </tr>\n",
       "    <tr>\n",
       "      <th>9</th>\n",
       "      <td>baf2e63c-bb54-4cb0-bca7-9ff7863a912f</td>\n",
       "      <td>2025-01-01</td>\n",
       "      <td>Ropa</td>\n",
       "      <td>Medellín</td>\n",
       "      <td>4</td>\n",
       "      <td>24.92</td>\n",
       "      <td>99.68</td>\n",
       "    </tr>\n",
       "  </tbody>\n",
       "</table>\n",
       "</div>"
      ],
      "text/plain": [
       "                          TransactionID       Date ProductCategory  \\\n",
       "0  343659ce-f3f9-4602-8300-ef6dd037018e 2025-01-01            Ropa   \n",
       "1  32321226-2d3c-4d4a-8d13-5767ba9fc659 2025-01-01            Ropa   \n",
       "2  75e25cc7-a4d8-429f-88e4-80fab90f7d9d 2025-01-01         Calzado   \n",
       "3  6facb6e4-a844-403c-a74e-cca6b6b4d44b 2025-01-01      Accesorios   \n",
       "4  0bf768e5-580f-43a1-a085-0c265a2b206c 2025-01-01      Accesorios   \n",
       "5  16b58205-23c1-47eb-a31c-f7b6f4dcf341 2025-01-01      Accesorios   \n",
       "6  c751ea46-d094-4a78-8dcb-9b3415546a75 2025-01-01            Ropa   \n",
       "7  2dd4ae30-947c-4e85-8d0e-6f24dda3f4a9 2025-01-01            Ropa   \n",
       "8  757eb262-0b6b-41fe-ae59-63ed9dc6e6b7 2025-01-01        Mascotas   \n",
       "9  baf2e63c-bb54-4cb0-bca7-9ff7863a912f 2025-01-01            Ropa   \n",
       "\n",
       "       Location  QuantitySold  PricePerUnit  TotalSales  \n",
       "0     Cartagena             3         52.54      157.62  \n",
       "1        Bogotá             2         48.18       96.36  \n",
       "2          Cali            -4         67.35     -269.40  \n",
       "3     Cartagena             6         53.00      318.00  \n",
       "4  Barranquilla             2         62.97      125.94  \n",
       "5      Medellín             2         71.09      142.18  \n",
       "6     Cartagena             6         57.98      347.88  \n",
       "7        Bogotá             4         42.81      171.24  \n",
       "8          Cali             2         35.83       71.66  \n",
       "9      Medellín             4         24.92       99.68  "
      ]
     },
     "execution_count": 3,
     "metadata": {},
     "output_type": "execute_result"
    }
   ],
   "source": [
    "df.head(10)"
   ]
  },
  {
   "cell_type": "markdown",
   "metadata": {},
   "source": [
    "## Transformación del daraframe\n"
   ]
  },
  {
   "cell_type": "markdown",
   "metadata": {},
   "source": [
    "Se hace la comprobacion si el total vendido es correcto, multiplicando la cantidad de productos por el valor unitario\n"
   ]
  },
  {
   "cell_type": "code",
   "execution_count": 4,
   "metadata": {},
   "outputs": [
    {
     "name": "stdout",
     "output_type": "stream",
     "text": [
      "El total de las ventas son correctas.\n"
     ]
    }
   ],
   "source": [
    "diferencia = (df['QuantitySold'] * df['PricePerUnit']) - df['TotalSales']\n",
    "\n",
    "errores = df[np.abs(diferencia) > 0.001]\n",
    "\n",
    "if errores.empty:\n",
    "    print(\"El total de las ventas son correctas.\")\n",
    "else:\n",
    "    print(\"Inconsistencias en TotalSales:\")\n",
    "    print(errores.assign(TotalSales_Calculado=errores['QuantitySold'] * errores['PricePerUnit'], Diferencia=diferencia[errores.index])[\n",
    "        ['TransactionID', 'QuantitySold', 'PricePerUnit', 'TotalSales', 'TotalSales_Calculado', 'Diferencia']\n",
    "    ])"
   ]
  },
  {
   "cell_type": "markdown",
   "metadata": {},
   "source": [
    "como los datos son correctos convertidos los filas de total de vendidos y cantidad a valores positivos\n"
   ]
  },
  {
   "cell_type": "code",
   "execution_count": 5,
   "metadata": {},
   "outputs": [],
   "source": [
    "# Convertir los campos QuantitySold y TotalSales a valores positivos\n",
    "df[['QuantitySold', 'PricePerUnit', 'TotalSales']] = df[['QuantitySold', 'PricePerUnit', 'TotalSales']].abs()"
   ]
  },
  {
   "cell_type": "code",
   "execution_count": 6,
   "metadata": {},
   "outputs": [
    {
     "data": {
      "text/html": [
       "<div>\n",
       "<style scoped>\n",
       "    .dataframe tbody tr th:only-of-type {\n",
       "        vertical-align: middle;\n",
       "    }\n",
       "\n",
       "    .dataframe tbody tr th {\n",
       "        vertical-align: top;\n",
       "    }\n",
       "\n",
       "    .dataframe thead th {\n",
       "        text-align: right;\n",
       "    }\n",
       "</style>\n",
       "<table border=\"1\" class=\"dataframe\">\n",
       "  <thead>\n",
       "    <tr style=\"text-align: right;\">\n",
       "      <th></th>\n",
       "      <th>TransactionID</th>\n",
       "      <th>Date</th>\n",
       "      <th>ProductCategory</th>\n",
       "      <th>Location</th>\n",
       "      <th>QuantitySold</th>\n",
       "      <th>PricePerUnit</th>\n",
       "      <th>TotalSales</th>\n",
       "    </tr>\n",
       "  </thead>\n",
       "  <tbody>\n",
       "    <tr>\n",
       "      <th>0</th>\n",
       "      <td>343659ce-f3f9-4602-8300-ef6dd037018e</td>\n",
       "      <td>2025-01-01</td>\n",
       "      <td>Ropa</td>\n",
       "      <td>Cartagena</td>\n",
       "      <td>3</td>\n",
       "      <td>52.54</td>\n",
       "      <td>157.62</td>\n",
       "    </tr>\n",
       "    <tr>\n",
       "      <th>1</th>\n",
       "      <td>32321226-2d3c-4d4a-8d13-5767ba9fc659</td>\n",
       "      <td>2025-01-01</td>\n",
       "      <td>Ropa</td>\n",
       "      <td>Bogotá</td>\n",
       "      <td>2</td>\n",
       "      <td>48.18</td>\n",
       "      <td>96.36</td>\n",
       "    </tr>\n",
       "    <tr>\n",
       "      <th>2</th>\n",
       "      <td>75e25cc7-a4d8-429f-88e4-80fab90f7d9d</td>\n",
       "      <td>2025-01-01</td>\n",
       "      <td>Calzado</td>\n",
       "      <td>Cali</td>\n",
       "      <td>4</td>\n",
       "      <td>67.35</td>\n",
       "      <td>269.40</td>\n",
       "    </tr>\n",
       "    <tr>\n",
       "      <th>3</th>\n",
       "      <td>6facb6e4-a844-403c-a74e-cca6b6b4d44b</td>\n",
       "      <td>2025-01-01</td>\n",
       "      <td>Accesorios</td>\n",
       "      <td>Cartagena</td>\n",
       "      <td>6</td>\n",
       "      <td>53.00</td>\n",
       "      <td>318.00</td>\n",
       "    </tr>\n",
       "    <tr>\n",
       "      <th>4</th>\n",
       "      <td>0bf768e5-580f-43a1-a085-0c265a2b206c</td>\n",
       "      <td>2025-01-01</td>\n",
       "      <td>Accesorios</td>\n",
       "      <td>Barranquilla</td>\n",
       "      <td>2</td>\n",
       "      <td>62.97</td>\n",
       "      <td>125.94</td>\n",
       "    </tr>\n",
       "    <tr>\n",
       "      <th>5</th>\n",
       "      <td>16b58205-23c1-47eb-a31c-f7b6f4dcf341</td>\n",
       "      <td>2025-01-01</td>\n",
       "      <td>Accesorios</td>\n",
       "      <td>Medellín</td>\n",
       "      <td>2</td>\n",
       "      <td>71.09</td>\n",
       "      <td>142.18</td>\n",
       "    </tr>\n",
       "    <tr>\n",
       "      <th>6</th>\n",
       "      <td>c751ea46-d094-4a78-8dcb-9b3415546a75</td>\n",
       "      <td>2025-01-01</td>\n",
       "      <td>Ropa</td>\n",
       "      <td>Cartagena</td>\n",
       "      <td>6</td>\n",
       "      <td>57.98</td>\n",
       "      <td>347.88</td>\n",
       "    </tr>\n",
       "    <tr>\n",
       "      <th>7</th>\n",
       "      <td>2dd4ae30-947c-4e85-8d0e-6f24dda3f4a9</td>\n",
       "      <td>2025-01-01</td>\n",
       "      <td>Ropa</td>\n",
       "      <td>Bogotá</td>\n",
       "      <td>4</td>\n",
       "      <td>42.81</td>\n",
       "      <td>171.24</td>\n",
       "    </tr>\n",
       "    <tr>\n",
       "      <th>8</th>\n",
       "      <td>757eb262-0b6b-41fe-ae59-63ed9dc6e6b7</td>\n",
       "      <td>2025-01-01</td>\n",
       "      <td>Mascotas</td>\n",
       "      <td>Cali</td>\n",
       "      <td>2</td>\n",
       "      <td>35.83</td>\n",
       "      <td>71.66</td>\n",
       "    </tr>\n",
       "    <tr>\n",
       "      <th>9</th>\n",
       "      <td>baf2e63c-bb54-4cb0-bca7-9ff7863a912f</td>\n",
       "      <td>2025-01-01</td>\n",
       "      <td>Ropa</td>\n",
       "      <td>Medellín</td>\n",
       "      <td>4</td>\n",
       "      <td>24.92</td>\n",
       "      <td>99.68</td>\n",
       "    </tr>\n",
       "  </tbody>\n",
       "</table>\n",
       "</div>"
      ],
      "text/plain": [
       "                          TransactionID       Date ProductCategory  \\\n",
       "0  343659ce-f3f9-4602-8300-ef6dd037018e 2025-01-01            Ropa   \n",
       "1  32321226-2d3c-4d4a-8d13-5767ba9fc659 2025-01-01            Ropa   \n",
       "2  75e25cc7-a4d8-429f-88e4-80fab90f7d9d 2025-01-01         Calzado   \n",
       "3  6facb6e4-a844-403c-a74e-cca6b6b4d44b 2025-01-01      Accesorios   \n",
       "4  0bf768e5-580f-43a1-a085-0c265a2b206c 2025-01-01      Accesorios   \n",
       "5  16b58205-23c1-47eb-a31c-f7b6f4dcf341 2025-01-01      Accesorios   \n",
       "6  c751ea46-d094-4a78-8dcb-9b3415546a75 2025-01-01            Ropa   \n",
       "7  2dd4ae30-947c-4e85-8d0e-6f24dda3f4a9 2025-01-01            Ropa   \n",
       "8  757eb262-0b6b-41fe-ae59-63ed9dc6e6b7 2025-01-01        Mascotas   \n",
       "9  baf2e63c-bb54-4cb0-bca7-9ff7863a912f 2025-01-01            Ropa   \n",
       "\n",
       "       Location  QuantitySold  PricePerUnit  TotalSales  \n",
       "0     Cartagena             3         52.54      157.62  \n",
       "1        Bogotá             2         48.18       96.36  \n",
       "2          Cali             4         67.35      269.40  \n",
       "3     Cartagena             6         53.00      318.00  \n",
       "4  Barranquilla             2         62.97      125.94  \n",
       "5      Medellín             2         71.09      142.18  \n",
       "6     Cartagena             6         57.98      347.88  \n",
       "7        Bogotá             4         42.81      171.24  \n",
       "8          Cali             2         35.83       71.66  \n",
       "9      Medellín             4         24.92       99.68  "
      ]
     },
     "execution_count": 6,
     "metadata": {},
     "output_type": "execute_result"
    }
   ],
   "source": [
    "df.head(10)"
   ]
  },
  {
   "cell_type": "code",
   "execution_count": 7,
   "metadata": {},
   "outputs": [
    {
     "data": {
      "text/html": [
       "<div>\n",
       "<style scoped>\n",
       "    .dataframe tbody tr th:only-of-type {\n",
       "        vertical-align: middle;\n",
       "    }\n",
       "\n",
       "    .dataframe tbody tr th {\n",
       "        vertical-align: top;\n",
       "    }\n",
       "\n",
       "    .dataframe thead th {\n",
       "        text-align: right;\n",
       "    }\n",
       "</style>\n",
       "<table border=\"1\" class=\"dataframe\">\n",
       "  <thead>\n",
       "    <tr style=\"text-align: right;\">\n",
       "      <th></th>\n",
       "      <th>Date</th>\n",
       "      <th>QuantitySold</th>\n",
       "      <th>PricePerUnit</th>\n",
       "      <th>TotalSales</th>\n",
       "    </tr>\n",
       "  </thead>\n",
       "  <tbody>\n",
       "    <tr>\n",
       "      <th>count</th>\n",
       "      <td>1000000</td>\n",
       "      <td>1000000.000000</td>\n",
       "      <td>1000000.000000</td>\n",
       "      <td>1000000.000000</td>\n",
       "    </tr>\n",
       "    <tr>\n",
       "      <th>mean</th>\n",
       "      <td>2025-01-01 00:00:01.900799488</td>\n",
       "      <td>2.753511</td>\n",
       "      <td>51.124773</td>\n",
       "      <td>140.744358</td>\n",
       "    </tr>\n",
       "    <tr>\n",
       "      <th>min</th>\n",
       "      <td>2025-01-01 00:00:00</td>\n",
       "      <td>1.000000</td>\n",
       "      <td>10.000000</td>\n",
       "      <td>10.000000</td>\n",
       "    </tr>\n",
       "    <tr>\n",
       "      <th>25%</th>\n",
       "      <td>2025-01-01 00:00:00</td>\n",
       "      <td>1.000000</td>\n",
       "      <td>39.910000</td>\n",
       "      <td>59.420000</td>\n",
       "    </tr>\n",
       "    <tr>\n",
       "      <th>50%</th>\n",
       "      <td>2025-01-01 00:00:00</td>\n",
       "      <td>2.000000</td>\n",
       "      <td>50.050000</td>\n",
       "      <td>115.470000</td>\n",
       "    </tr>\n",
       "    <tr>\n",
       "      <th>75%</th>\n",
       "      <td>2025-01-01 00:00:00</td>\n",
       "      <td>4.000000</td>\n",
       "      <td>60.200000</td>\n",
       "      <td>192.120000</td>\n",
       "    </tr>\n",
       "    <tr>\n",
       "      <th>max</th>\n",
       "      <td>2025-01-02 00:00:00</td>\n",
       "      <td>12.000000</td>\n",
       "      <td>979.200000</td>\n",
       "      <td>6666.300000</td>\n",
       "    </tr>\n",
       "    <tr>\n",
       "      <th>std</th>\n",
       "      <td>NaN</td>\n",
       "      <td>1.648096</td>\n",
       "      <td>27.801333</td>\n",
       "      <td>122.061880</td>\n",
       "    </tr>\n",
       "  </tbody>\n",
       "</table>\n",
       "</div>"
      ],
      "text/plain": [
       "                                Date    QuantitySold    PricePerUnit  \\\n",
       "count                        1000000  1000000.000000  1000000.000000   \n",
       "mean   2025-01-01 00:00:01.900799488        2.753511       51.124773   \n",
       "min              2025-01-01 00:00:00        1.000000       10.000000   \n",
       "25%              2025-01-01 00:00:00        1.000000       39.910000   \n",
       "50%              2025-01-01 00:00:00        2.000000       50.050000   \n",
       "75%              2025-01-01 00:00:00        4.000000       60.200000   \n",
       "max              2025-01-02 00:00:00       12.000000      979.200000   \n",
       "std                              NaN        1.648096       27.801333   \n",
       "\n",
       "           TotalSales  \n",
       "count  1000000.000000  \n",
       "mean       140.744358  \n",
       "min         10.000000  \n",
       "25%         59.420000  \n",
       "50%        115.470000  \n",
       "75%        192.120000  \n",
       "max       6666.300000  \n",
       "std        122.061880  "
      ]
     },
     "execution_count": 7,
     "metadata": {},
     "output_type": "execute_result"
    }
   ],
   "source": [
    "df.describe()"
   ]
  },
  {
   "cell_type": "markdown",
   "metadata": {},
   "source": [
    "transacciones duplicadas\n"
   ]
  },
  {
   "cell_type": "markdown",
   "metadata": {},
   "source": [
    "Buscamos las transacciones duplicadas y las contamos para evaluar su impacto en el DataFrame. Dado que el error es menor al 2%, eliminamos solo uno de los registros duplicados, manteniendo uno para minimizar su efecto en el análisis\n"
   ]
  },
  {
   "cell_type": "code",
   "execution_count": 8,
   "metadata": {},
   "outputs": [
    {
     "name": "stdout",
     "output_type": "stream",
     "text": [
      "Total de transacciones duplicadas: 19676\n",
      "                             TransactionID  Cantidad Duplicados\n",
      "0     00026b1d-91bc-42ce-b57f-6ea3cee436bb                    2\n",
      "1     00076c0d-eb0a-4d6e-8555-3a8832d8108a                    2\n",
      "2     001082fc-6e67-4a14-8cff-b87ca021c529                    2\n",
      "3     0023b5d2-6303-4b3b-9bb3-937a600326ed                    2\n",
      "4     003005a5-41b8-4588-b831-7bb59b71d029                    2\n",
      "...                                    ...                  ...\n",
      "9833  ffe9a319-f2d3-4bee-b44f-a99177d4244b                    2\n",
      "9834  fff05fbd-46f9-4117-b3c3-ca1d1e5e7cfa                    2\n",
      "9835  fff391e1-597d-4437-a28d-c13c94cee170                    2\n",
      "9836  fff55754-48a6-4f00-858c-b0054307d613                    2\n",
      "9837  fff98e9f-8ccb-42be-a5fa-b9d6818704fc                    2\n",
      "\n",
      "[9838 rows x 2 columns]\n"
     ]
    }
   ],
   "source": [
    "\n",
    "duplicados = df[df.duplicated(subset=['TransactionID'], keep=False)] \\\n",
    "    .groupby('TransactionID') \\\n",
    "    .size() \\\n",
    "    .reset_index(name='Cantidad Duplicados')\n",
    "\n",
    "\n",
    "total_duplicados = duplicados['Cantidad Duplicados'].sum()\n",
    "\n",
    "print(f\"Total de transacciones duplicadas: {total_duplicados}\")\n",
    "print(duplicados)\n",
    "# "
   ]
  },
  {
   "cell_type": "code",
   "execution_count": 9,
   "metadata": {},
   "outputs": [
    {
     "name": "stdout",
     "output_type": "stream",
     "text": [
      "Total de ventas: 1000000\n",
      "Total de transacciones duplicadas: 19676\n"
     ]
    },
    {
     "data": {
      "image/png": "[encoded data removed]",
      "text/plain": [
       "<Figure size 600x600 with 1 Axes>"
      ]
     },
     "metadata": {},
     "output_type": "display_data"
    }
   ],
   "source": [
    "\n",
    "total_ventas = len(df)  \n",
    "\n",
    "print(f\"Total de ventas: {total_ventas}\")\n",
    "print(f\"Total de transacciones duplicadas: {total_duplicados}\")\n",
    "\n",
    "# Crear gráfico de pastel mostrando el impacto de las transacciones duplicadas\n",
    "plt.figure(figsize=(6,6))\n",
    "plt.pie([total_duplicados, total_ventas - total_duplicados], \n",
    "        labels=[\"Transacciones Duplicadas\", \"Transacciones Válidas\"], \n",
    "        autopct=\"%1.2f%%\", \n",
    "        colors=['red', 'green'], \n",
    "        startangle=90)\n",
    "plt.title(\"Impacto de los Duplicados en las Transacciones Totales\")\n",
    "plt.show()\n"
   ]
  },
  {
   "cell_type": "code",
   "execution_count": 10,
   "metadata": {},
   "outputs": [
    {
     "name": "stdout",
     "output_type": "stream",
     "text": [
      "Cantidad de transacciones duplicadas por localidad:\n",
      "       Location  Cantidad Duplicados\n",
      "0  Barranquilla                 3934\n",
      "1        Bogotá                 3878\n",
      "2          Cali                 3978\n",
      "3     Cartagena                 3940\n",
      "4      Medellín                 3946\n"
     ]
    }
   ],
   "source": [
    "\n",
    "df_duplicados = df[df.duplicated(subset=['TransactionID'], keep=False)]\n",
    "\n",
    "# Contar duplicados por localidad\n",
    "duplicados_por_localidad = df_duplicados.groupby('Location').size().reset_index(name='Cantidad Duplicados')\n",
    "\n",
    "# Mostrar los resultados\n",
    "print(\"Cantidad de transacciones duplicadas por localidad:\")\n",
    "print(duplicados_por_localidad)\n"
   ]
  },
  {
   "cell_type": "code",
   "execution_count": 11,
   "metadata": {},
   "outputs": [],
   "source": [
    "# Eliminar duplicados\n",
    "df_sin_duplicados = df.drop_duplicates(subset=['TransactionID'], keep='first')  "
   ]
  },
  {
   "cell_type": "markdown",
   "metadata": {},
   "source": [
    "Buscamos las transacciones duplicadas y las contamos para evaluar su impacto en el DataFrame. Dado que el error es menor al 2%, eliminamos solo uno de los registros duplicados, manteniendo uno para minimizar su efecto en el análisis\n"
   ]
  },
  {
   "cell_type": "code",
   "execution_count": 12,
   "metadata": {},
   "outputs": [
    {
     "data": {
      "image/png": "[encoded data removed]",
      "text/plain": [
       "<Figure size 800x800 with 1 Axes>"
      ]
     },
     "metadata": {},
     "output_type": "display_data"
    }
   ],
   "source": [
    "ventas_por_localidad = df_sin_duplicados.groupby('Location')['TotalSales'].sum().reset_index()\n",
    "\n",
    "etiquetas = [f\"{loc}\\n${ventas:,.2f}\" for loc, ventas in zip(ventas_por_localidad['Location'], ventas_por_localidad['TotalSales'])]\n",
    "\n",
    "plt.figure(figsize=(8,8))\n",
    "plt.pie(ventas_por_localidad['TotalSales'], \n",
    "        labels=etiquetas, \n",
    "        autopct=\"%1.2f%%\", \n",
    "        colors=plt.cm.Paired.colors, \n",
    "        startangle=140)\n",
    "\n",
    "# Título del gráfico\n",
    "plt.title(\"Distribución de Ventas por Localidad\")\n",
    "plt.show()\n"
   ]
  },
  {
   "cell_type": "markdown",
   "metadata": {},
   "source": [
    "En esta sección, realizamos una corrección entre el precio y la cantidad vendida para identificar posibles inconsistencias en el análisis, detectando valores que estén fuera del rango esperado.\n"
   ]
  },
  {
   "cell_type": "code",
   "execution_count": 13,
   "metadata": {},
   "outputs": [
    {
     "data": {
      "image/png": "[encoded data removed]",
      "text/plain": [
       "<Figure size 800x500 with 1 Axes>"
      ]
     },
     "metadata": {},
     "output_type": "display_data"
    }
   ],
   "source": [
    "plt.figure(figsize=(8,5))\n",
    "sns.scatterplot(x=df_sin_duplicados['PricePerUnit'], y=df_sin_duplicados['QuantitySold'])\n",
    "plt.xlabel(\"Precio por Unidad\")\n",
    "plt.ylabel(\"Cantidad Vendida\")\n",
    "plt.title(\"Relación entre Precio y Cantidad Vendida\")\n",
    "plt.show()\n"
   ]
  },
  {
   "cell_type": "markdown",
   "metadata": {},
   "source": [
    "Se corrigen los problemas en el dataset, incluyendo valores erróneos, duplicados e inconsistencias en el inventario.\n"
   ]
  },
  {
   "cell_type": "code",
   "execution_count": 14,
   "metadata": {},
   "outputs": [
    {
     "data": {
      "text/html": [
       "<div>\n",
       "<style scoped>\n",
       "    .dataframe tbody tr th:only-of-type {\n",
       "        vertical-align: middle;\n",
       "    }\n",
       "\n",
       "    .dataframe tbody tr th {\n",
       "        vertical-align: top;\n",
       "    }\n",
       "\n",
       "    .dataframe thead th {\n",
       "        text-align: right;\n",
       "    }\n",
       "</style>\n",
       "<table border=\"1\" class=\"dataframe\">\n",
       "  <thead>\n",
       "    <tr style=\"text-align: right;\">\n",
       "      <th></th>\n",
       "      <th>TransactionID</th>\n",
       "      <th>Date</th>\n",
       "      <th>ProductCategory</th>\n",
       "      <th>Location</th>\n",
       "      <th>QuantitySold</th>\n",
       "      <th>PricePerUnit</th>\n",
       "      <th>TotalSales</th>\n",
       "    </tr>\n",
       "  </thead>\n",
       "  <tbody>\n",
       "    <tr>\n",
       "      <th>0</th>\n",
       "      <td>343659ce-f3f9-4602-8300-ef6dd037018e</td>\n",
       "      <td>2025-01-01</td>\n",
       "      <td>Ropa</td>\n",
       "      <td>Cartagena</td>\n",
       "      <td>3</td>\n",
       "      <td>52.54</td>\n",
       "      <td>157.62</td>\n",
       "    </tr>\n",
       "    <tr>\n",
       "      <th>1</th>\n",
       "      <td>32321226-2d3c-4d4a-8d13-5767ba9fc659</td>\n",
       "      <td>2025-01-01</td>\n",
       "      <td>Ropa</td>\n",
       "      <td>Bogotá</td>\n",
       "      <td>2</td>\n",
       "      <td>48.18</td>\n",
       "      <td>96.36</td>\n",
       "    </tr>\n",
       "    <tr>\n",
       "      <th>2</th>\n",
       "      <td>75e25cc7-a4d8-429f-88e4-80fab90f7d9d</td>\n",
       "      <td>2025-01-01</td>\n",
       "      <td>Calzado</td>\n",
       "      <td>Cali</td>\n",
       "      <td>4</td>\n",
       "      <td>67.35</td>\n",
       "      <td>269.40</td>\n",
       "    </tr>\n",
       "    <tr>\n",
       "      <th>3</th>\n",
       "      <td>6facb6e4-a844-403c-a74e-cca6b6b4d44b</td>\n",
       "      <td>2025-01-01</td>\n",
       "      <td>Accesorios</td>\n",
       "      <td>Cartagena</td>\n",
       "      <td>6</td>\n",
       "      <td>53.00</td>\n",
       "      <td>318.00</td>\n",
       "    </tr>\n",
       "    <tr>\n",
       "      <th>4</th>\n",
       "      <td>0bf768e5-580f-43a1-a085-0c265a2b206c</td>\n",
       "      <td>2025-01-01</td>\n",
       "      <td>Accesorios</td>\n",
       "      <td>Barranquilla</td>\n",
       "      <td>2</td>\n",
       "      <td>62.97</td>\n",
       "      <td>125.94</td>\n",
       "    </tr>\n",
       "  </tbody>\n",
       "</table>\n",
       "</div>"
      ],
      "text/plain": [
       "                          TransactionID       Date ProductCategory  \\\n",
       "0  343659ce-f3f9-4602-8300-ef6dd037018e 2025-01-01            Ropa   \n",
       "1  32321226-2d3c-4d4a-8d13-5767ba9fc659 2025-01-01            Ropa   \n",
       "2  75e25cc7-a4d8-429f-88e4-80fab90f7d9d 2025-01-01         Calzado   \n",
       "3  6facb6e4-a844-403c-a74e-cca6b6b4d44b 2025-01-01      Accesorios   \n",
       "4  0bf768e5-580f-43a1-a085-0c265a2b206c 2025-01-01      Accesorios   \n",
       "\n",
       "       Location  QuantitySold  PricePerUnit  TotalSales  \n",
       "0     Cartagena             3         52.54      157.62  \n",
       "1        Bogotá             2         48.18       96.36  \n",
       "2          Cali             4         67.35      269.40  \n",
       "3     Cartagena             6         53.00      318.00  \n",
       "4  Barranquilla             2         62.97      125.94  "
      ]
     },
     "execution_count": 14,
     "metadata": {},
     "output_type": "execute_result"
    }
   ],
   "source": [
    "df_sin_duplicados.head()"
   ]
  },
  {
   "cell_type": "code",
   "execution_count": 15,
   "metadata": {},
   "outputs": [
    {
     "name": "stdout",
     "output_type": "stream",
     "text": [
      "<class 'pandas.core.frame.DataFrame'>\n",
      "Index: 990162 entries, 0 to 999999\n",
      "Data columns (total 7 columns):\n",
      " #   Column           Non-Null Count   Dtype         \n",
      "---  ------           --------------   -----         \n",
      " 0   TransactionID    990162 non-null  object        \n",
      " 1   Date             990162 non-null  datetime64[ns]\n",
      " 2   ProductCategory  990162 non-null  object        \n",
      " 3   Location         990162 non-null  object        \n",
      " 4   QuantitySold     990162 non-null  int64         \n",
      " 5   PricePerUnit     990162 non-null  float64       \n",
      " 6   TotalSales       990162 non-null  float64       \n",
      "dtypes: datetime64[ns](1), float64(2), int64(1), object(3)\n",
      "memory usage: 60.4+ MB\n"
     ]
    }
   ],
   "source": [
    "df_sin_duplicados.info()"
   ]
  },
  {
   "cell_type": "code",
   "execution_count": 16,
   "metadata": {},
   "outputs": [
    {
     "data": {
      "text/html": [
       "<div>\n",
       "<style scoped>\n",
       "    .dataframe tbody tr th:only-of-type {\n",
       "        vertical-align: middle;\n",
       "    }\n",
       "\n",
       "    .dataframe tbody tr th {\n",
       "        vertical-align: top;\n",
       "    }\n",
       "\n",
       "    .dataframe thead th {\n",
       "        text-align: right;\n",
       "    }\n",
       "</style>\n",
       "<table border=\"1\" class=\"dataframe\">\n",
       "  <thead>\n",
       "    <tr style=\"text-align: right;\">\n",
       "      <th></th>\n",
       "      <th>Date</th>\n",
       "      <th>QuantitySold</th>\n",
       "      <th>PricePerUnit</th>\n",
       "      <th>TotalSales</th>\n",
       "    </tr>\n",
       "  </thead>\n",
       "  <tbody>\n",
       "    <tr>\n",
       "      <th>count</th>\n",
       "      <td>1000000</td>\n",
       "      <td>1000000.000000</td>\n",
       "      <td>1000000.000000</td>\n",
       "      <td>1000000.000000</td>\n",
       "    </tr>\n",
       "    <tr>\n",
       "      <th>mean</th>\n",
       "      <td>2025-01-01 00:00:01.900799488</td>\n",
       "      <td>2.753511</td>\n",
       "      <td>51.124773</td>\n",
       "      <td>140.744358</td>\n",
       "    </tr>\n",
       "    <tr>\n",
       "      <th>min</th>\n",
       "      <td>2025-01-01 00:00:00</td>\n",
       "      <td>1.000000</td>\n",
       "      <td>10.000000</td>\n",
       "      <td>10.000000</td>\n",
       "    </tr>\n",
       "    <tr>\n",
       "      <th>25%</th>\n",
       "      <td>2025-01-01 00:00:00</td>\n",
       "      <td>1.000000</td>\n",
       "      <td>39.910000</td>\n",
       "      <td>59.420000</td>\n",
       "    </tr>\n",
       "    <tr>\n",
       "      <th>50%</th>\n",
       "      <td>2025-01-01 00:00:00</td>\n",
       "      <td>2.000000</td>\n",
       "      <td>50.050000</td>\n",
       "      <td>115.470000</td>\n",
       "    </tr>\n",
       "    <tr>\n",
       "      <th>75%</th>\n",
       "      <td>2025-01-01 00:00:00</td>\n",
       "      <td>4.000000</td>\n",
       "      <td>60.200000</td>\n",
       "      <td>192.120000</td>\n",
       "    </tr>\n",
       "    <tr>\n",
       "      <th>max</th>\n",
       "      <td>2025-01-02 00:00:00</td>\n",
       "      <td>12.000000</td>\n",
       "      <td>979.200000</td>\n",
       "      <td>6666.300000</td>\n",
       "    </tr>\n",
       "    <tr>\n",
       "      <th>std</th>\n",
       "      <td>NaN</td>\n",
       "      <td>1.648096</td>\n",
       "      <td>27.801333</td>\n",
       "      <td>122.061880</td>\n",
       "    </tr>\n",
       "  </tbody>\n",
       "</table>\n",
       "</div>"
      ],
      "text/plain": [
       "                                Date    QuantitySold    PricePerUnit  \\\n",
       "count                        1000000  1000000.000000  1000000.000000   \n",
       "mean   2025-01-01 00:00:01.900799488        2.753511       51.124773   \n",
       "min              2025-01-01 00:00:00        1.000000       10.000000   \n",
       "25%              2025-01-01 00:00:00        1.000000       39.910000   \n",
       "50%              2025-01-01 00:00:00        2.000000       50.050000   \n",
       "75%              2025-01-01 00:00:00        4.000000       60.200000   \n",
       "max              2025-01-02 00:00:00       12.000000      979.200000   \n",
       "std                              NaN        1.648096       27.801333   \n",
       "\n",
       "           TotalSales  \n",
       "count  1000000.000000  \n",
       "mean       140.744358  \n",
       "min         10.000000  \n",
       "25%         59.420000  \n",
       "50%        115.470000  \n",
       "75%        192.120000  \n",
       "max       6666.300000  \n",
       "std        122.061880  "
      ]
     },
     "execution_count": 16,
     "metadata": {},
     "output_type": "execute_result"
    }
   ],
   "source": [
    "df.describe()"
   ]
  },
  {
   "cell_type": "code",
   "execution_count": null,
   "metadata": {},
   "outputs": [
    {
     "name": "stdout",
     "output_type": "stream",
     "text": [
      "Duplicados: 0\n",
      "Valores nulos:\n",
      "TransactionID      0\n",
      "Date               0\n",
      "ProductCategory    0\n",
      "Location           0\n",
      "QuantitySold       0\n",
      "PricePerUnit       0\n",
      "TotalSales         0\n",
      "dtype: int64\n"
     ]
    }
   ],
   "source": [
    "print(f\"Duplicados: {df.duplicated().sum()}\") \n",
    "print(f\"Valores nulos:\\n{df.isnull().sum()}\")  \n"
   ]
  },
  {
   "cell_type": "code",
   "execution_count": null,
   "metadata": {},
   "outputs": [],
   "source": []
  }
 ],
 "metadata": {
  "kernelspec": {
   "display_name": "Python 3",
   "language": "python",
   "name": "python3"
  },
  "language_info": {
   "codemirror_mode": {
    "name": "ipython",
    "version": 3
   },
   "file_extension": ".py",
   "mimetype": "text/x-python",
   "name": "python",
   "nbconvert_exporter": "python",
   "pygments_lexer": "ipython3",
   "version": "3.12.7"
  }
 },
 "nbformat": 4,
 "nbformat_minor": 2
}
